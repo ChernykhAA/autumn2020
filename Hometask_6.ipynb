{
 "cells": [
  {
   "cell_type": "markdown",
   "metadata": {},
   "source": [
    "# Hometask 6 #"
   ]
  },
  {
   "cell_type": "code",
   "execution_count": 1,
   "metadata": {},
   "outputs": [],
   "source": [
    "import numpy as np\n",
    "import matplotlib.pyplot as plt\n",
    "from scipy import stats"
   ]
  },
  {
   "cell_type": "markdown",
   "metadata": {},
   "source": [
    "## Домашнее задание"
   ]
  },
  {
   "cell_type": "markdown",
   "metadata": {},
   "source": [
    "Рассмотрим граф $G=(V,E)$, вершинам которого случайным образом приписаны значения 0 и 1 так, что смежные вершины не могут одновременно иметь значение 1. Пример расстановки значений по вершинам графа показан на картинке ниже (черные вершины имеют значение 1, белые - 0):\n",
    "\n",
    "\n",
    "Как оценить, сколько в среднем закрашенных вершин будет иметь такой граф?\n",
    "\n",
    "Сформулируем задачу в математических терминах.\n",
    "\n",
    "Пусть $\\xi \\in \\{0,1\\}^{V}$ обозначает конфигурацию графа (расстановку 0 и 1 по вершинам). Назовем конфигурацию допустимой, если вершины, соединенные ребрами, не имеют одновременно значения 1. Пусть $Z_G$ - общее количество допустимых конфигураций. Зададим  распределение на множестве всех конфигураций:\n",
    "$$\\begin{equation*}\n",
    "\\mu(\\xi) = \n",
    " \\begin{cases}\n",
    "   \\frac{1}{Z_G}, &\\text{$\\xi$ - допустимая конфигурация}\\\\\n",
    "   0, &\\text{иначе.}\n",
    " \\end{cases}\n",
    "\\end{equation*}$$\n",
    "Обозначим $n(\\xi)$ - число закрашенных вершин в конфигурации $\\xi$. Тогда\n",
    "$$\n",
    "{\\rm E} n(\\xi) = \\sum\\limits_{x \\in \\{0,1\\}^V} n(x) \\mu(x) = \\frac{1}{Z_G} \\sum\\limits_{x \\in \\{0,1\\}^V} n(x) {\\rm I}_{\\{x - \\text{допустимая} \\}}\n",
    "$$\n",
    "\n",
    "Явно перебирать все $x \\in \\{0,1\\}^{V}$ не представляется возможным. Мы могли бы попробовать оценить ${\\rm E} n(\\xi)$, используя закон больших чилел:\n",
    "$$\n",
    "{\\rm E} n(\\xi) \\approx \\frac{1}{N} \\sum\\limits_{i=1}^{N} n(\\xi), \\text{где $\\xi \\sim \\mu$}\n",
    "$$\n",
    "Но есть проблема: как смоделировать случайную величину из распределения $\\mu$?\n",
    "\n",
    "В этом нам поможет метод MCMC."
   ]
  },
  {
   "cell_type": "markdown",
   "metadata": {},
   "source": [
    "## Задание\n",
    "\n",
    "* Оценить  ${\\rm E} n(\\xi)$ с помощью МСМС для графа 8х8\n",
    "* Обосновать численно и графически стационарность\n",
    "* Построить график распределеиня $n(\\xi)$\n",
    "* Изобразить раскраску для одного из случайных графов, взятых из стационарного распределения.\n",
    "* Дополнительная: построить график зависимости ${\\rm E} n(\\xi)$ от N - размера графа (NxN). Что можно сказать о скорости роста ${\\rm E} n(\\xi)$ как функции от N?"
   ]
  },
  {
   "cell_type": "markdown",
   "metadata": {},
   "source": [
    "#### Будем считать соседними те графы, которые отличается значением в единственной точке"
   ]
  },
  {
   "cell_type": "code",
   "execution_count": 2,
   "metadata": {},
   "outputs": [
    {
     "name": "stdout",
     "output_type": "stream",
     "text": [
      "15.2887 15.338947368421053\n"
     ]
    }
   ],
   "source": [
    "#Expectation of graph 8x8\n",
    "\n",
    "def step(current, xlim = 8, ylim = 8):\n",
    "    x = np.random.randint(xlim)\n",
    "    y = np.random.randint(ylim)\n",
    "    if(current[x, y] == 1):\n",
    "        current[x, y] = 0\n",
    "    elif(x > 0 and x < xlim - 1):\n",
    "        if(y > 0 and y < ylim - 1):\n",
    "            if(current[x - 1, y] == current[x + 1, y] == current[x, y - 1] == current[x, y + 1] == 0):\n",
    "                current[x, y] = 1\n",
    "        elif(y == 0):\n",
    "            if(current[x - 1, y] == current[x + 1, y] == current[x, y + 1] == 0):\n",
    "                current[x, y] = 1\n",
    "        elif(y == ylim - 1):\n",
    "            if(current[x - 1, y] == current[x + 1, y] == current[x, y - 1] == 0):\n",
    "                current[x, y] = 1\n",
    "    elif(x == 0):\n",
    "        if(y > 0 and y < ylim - 1):\n",
    "            if(current[x + 1, y] == current[x, y - 1] == current[x, y + 1] == 0):\n",
    "                current[x, y] = 1\n",
    "        elif(y == 0):\n",
    "            if(current[x + 1, y] == current[x, y + 1] == 0):\n",
    "                current[x, y] = 1\n",
    "        elif(y == ylim - 1):\n",
    "            if(current[x + 1, y] == current[x, y - 1] == 0):\n",
    "                current[x, y] = 1\n",
    "    else: # x == xlim - 1\n",
    "        if(y > 0 and y < ylim - 1):\n",
    "            if(current[x - 1, y] == current[x, y - 1] == current[x, y + 1] == 0):\n",
    "                current[x, y] = 1\n",
    "        elif(y == 0):\n",
    "            if(current[x - 1, y] == current[x, y + 1] == 0):\n",
    "                current[x, y] = 1\n",
    "        elif(y == ylim - 1):\n",
    "            if(current[x - 1, y] == current[x, y - 1] == 0):\n",
    "                current[x, y] = 1\n",
    "                \n",
    "    return current\n",
    "\n",
    "n = 10000\n",
    "current = np.zeros((8, 8))\n",
    "#current[np.arange(8), np.arange(8)[::-1]] = current[np.arange(8), np.arange(8)] + 1\n",
    "walk = []\n",
    "xlim = len(current[0, :])\n",
    "ylim = len(current[:, 0])\n",
    "for i in range(n):\n",
    "    current = step(current)\n",
    "    walk.append(np.sum(current))\n",
    "\n",
    "expect = np.sum(walk) / len(walk)\n",
    "print(expect, np.sum(walk[500::20]) / len(walk[500::20]))\n",
    "      #Expectation and Expectation without probe interval and without correlations "
   ]
  },
  {
   "cell_type": "code",
   "execution_count": 3,
   "metadata": {},
   "outputs": [
    {
     "data": {
      "image/png": "[encoded data removed]",
      "text/plain": [
       "<Figure size 432x288 with 1 Axes>"
      ]
     },
     "metadata": {
      "needs_background": "light"
     },
     "output_type": "display_data"
    },
    {
     "data": {
      "text/plain": [
       "(Ttest_indResult(statistic=-2.299325771554071, pvalue=0.021639962221971187),\n",
       " Ttest_indResult(statistic=-0.5874134313310209, pvalue=0.5655037884551956))"
      ]
     },
     "execution_count": 3,
     "metadata": {},
     "output_type": "execute_result"
    }
   ],
   "source": [
    "#Stationary\n",
    "\n",
    "def g_test(x, start=0.1, end=0.5):\n",
    "    return stats.ttest_ind(x[:int(len(x) * start)], x[-int(len(x) * end):], equal_var=False)\n",
    "\n",
    "plt.plot(walk)\n",
    "plt.show()\n",
    "\n",
    "g_test(walk[500:]), g_test(walk[500::80])"
   ]
  },
  {
   "cell_type": "code",
   "execution_count": 4,
   "metadata": {},
   "outputs": [
    {
     "data": {
      "image/png": "[encoded data removed]",
      "text/plain": [
       "<Figure size 1008x504 with 1 Axes>"
      ]
     },
     "metadata": {
      "needs_background": "light"
     },
     "output_type": "display_data"
    }
   ],
   "source": [
    "#density or pdf\n",
    "\n",
    "plt.figure(figsize = (14, 7))\n",
    "plt.hist(walk, bins = np.int(np.max(walk)), rwidth=0.8, density=True)\n",
    "plt.xticks(np.arange(33)) # 32 -- max amount of '1' in graph 8x8\n",
    "plt.show()"
   ]
  },
  {
   "cell_type": "code",
   "execution_count": 5,
   "metadata": {},
   "outputs": [
    {
     "name": "stdout",
     "output_type": "stream",
     "text": [
      "[[0. 0. 0. 0. 0. 0. 0. 1.]\n",
      " [0. 0. 0. 0. 0. 0. 0. 0.]\n",
      " [0. 1. 0. 0. 1. 0. 0. 0.]\n",
      " [1. 0. 1. 0. 0. 0. 1. 0.]\n",
      " [0. 0. 0. 1. 0. 0. 0. 1.]\n",
      " [0. 0. 1. 0. 0. 0. 1. 0.]\n",
      " [0. 0. 0. 0. 1. 0. 0. 1.]\n",
      " [0. 1. 0. 1. 0. 1. 0. 0.]]\n"
     ]
    },
    {
     "data": {
      "image/png": "[encoded data removed]",
      "text/plain": [
       "<Figure size 432x288 with 1 Axes>"
      ]
     },
     "metadata": {
      "needs_background": "light"
     },
     "output_type": "display_data"
    }
   ],
   "source": [
    "#Image of stationary graph\n",
    "\n",
    "'''\n",
    "for i in range(20):\n",
    "    current = step(current)\n",
    "    walk.append(np.sum(current))\n",
    "'''\n",
    "print(current)\n",
    "\n",
    "plt.imshow((current + 1) % 2, cmap = 'gray', vmin=0, vmax=1, aspect='equal')\n",
    "ax = plt.gca()\n",
    "ax.set_xticks(np.arange(0, 8, 1))\n",
    "ax.set_yticks(np.arange(0, 8, 1))\n",
    "ax.set_xticklabels(np.arange(1, 9, 1))\n",
    "ax.set_yticklabels(np.arange(1, 9, 1))\n",
    "ax.set_xticks(np.arange(-.5, 8, 1), minor=True)\n",
    "ax.set_yticks(np.arange(-.5, 8, 1), minor=True)\n",
    "ax.grid(which='minor', color='black', linestyle='-', linewidth=2)\n",
    "plt.show()"
   ]
  },
  {
   "cell_type": "code",
   "execution_count": 6,
   "metadata": {},
   "outputs": [
    {
     "name": "stdout",
     "output_type": "stream",
     "text": [
      "N = 4  Expect = 4.0824\n",
      "N = 5  Expect = 6.2839\n",
      "N = 6  Expect = 8.669\n",
      "N = 7  Expect = 12.0429\n",
      "N = 8  Expect = 15.1592\n",
      "N = 9  Expect = 19.3091\n",
      "N = 10  Expect = 23.4182\n",
      "N = 11  Expect = 28.3989\n",
      "N = 12  Expect = 33.4774\n",
      "N = 13  Expect = 38.9644\n",
      "N = 14  Expect = 45.3658\n",
      "N = 15  Expect = 51.9181\n",
      "N = 16  Expect = 58.5041\n",
      "N = 17  Expect = 66.4664\n",
      "N = 18  Expect = 73.9207\n",
      "N = 19  Expect = 83.101\n"
     ]
    },
    {
     "data": {
      "image/png": "[encoded data removed]",
      "text/plain": [
       "<Figure size 504x504 with 1 Axes>"
      ]
     },
     "metadata": {
      "needs_background": "light"
     },
     "output_type": "display_data"
    }
   ],
   "source": [
    "#Expectation of graph NxN\n",
    "\n",
    "N = np.arange(4, 20)\n",
    "expect = []\n",
    "for i in range(len(N)):\n",
    "    n = 10000\n",
    "    current = np.zeros((N[i], N[i]))\n",
    "    walk = []\n",
    "    xlim = len(current[0, :])\n",
    "    ylim = len(current[:, 0])\n",
    "    for j in range(n):\n",
    "        current = step(current, N[i], N[i])\n",
    "        walk.append(np.sum(current))\n",
    "\n",
    "    expect.append(np.sum(walk) / len(walk))\n",
    "    print('N =', N[i], ' Expect =', expect[i])\n",
    "    \n",
    "# Expect ~ N^2 / 4\n",
    "plt.figure(figsize = (7, 7))\n",
    "plt.plot(N, expect)\n",
    "plt.xlabel('N')\n",
    "plt.ylabel('Expectation')\n",
    "plt.title('Expectation vs graph size N x N')\n",
    "plt.show()"
   ]
  },
  {
   "cell_type": "markdown",
   "metadata": {},
   "source": [
    "Можно сказать, что En(ξ) растёт как N^2"
   ]
  }
 ],
 "metadata": {
  "kernelspec": {
   "display_name": "Python 3",
   "language": "python",
   "name": "python3"
  },
  "language_info": {
   "codemirror_mode": {
    "name": "ipython",
    "version": 3
   },
   "file_extension": ".py",
   "mimetype": "text/x-python",
   "name": "python",
   "nbconvert_exporter": "python",
   "pygments_lexer": "ipython3",
   "version": "3.7.0"
  }
 },
 "nbformat": 4,
 "nbformat_minor": 2
}
