{
 "cells": [
  {
   "cell_type": "code",
   "execution_count": 1,
   "metadata": {},
   "outputs": [],
   "source": [
    "import numpy as np"
   ]
  },
  {
   "cell_type": "code",
   "execution_count": 2,
   "metadata": {},
   "outputs": [],
   "source": [
    "# line -- for which is likelihood\n",
    "# p0 -- initial probability\n",
    "# P -- transition matrix\n",
    "# p -- conditional probability\n",
    "# p[0] -- probabilities when HMM in 0\n",
    "# p[1] -- probabilities when HMM in 1\n",
    "\n",
    "def likelihood2 (line, p0, P, p):\n",
    "    alpha = []\n",
    "    if len(line) > 0:\n",
    "        for i in range(len(p0)):\n",
    "            alpha.append(p[i, int(line[0]) - 1] * p0[i])\n",
    "        line = line[1:]\n",
    "        ans = alpha\n",
    "        while(len(line) > 0):\n",
    "            alpha = (ans @ P) * p[:, int(line[0]) - 1]\n",
    "            line = line[1:]\n",
    "            ans = alpha\n",
    "        return np.sum(ans)\n",
    "    \n",
    "    else:\n",
    "        return 0"
   ]
  },
  {
   "cell_type": "code",
   "execution_count": 3,
   "metadata": {},
   "outputs": [],
   "source": [
    "def arg_likelihood (line, p0, P, p):\n",
    "    beta = []\n",
    "    if len(line) > 0:\n",
    "        for i in range(len(p0)):\n",
    "            beta.append(p[i, int(line[0]) - 1] * p0[i])\n",
    "        beta = np.array(beta)\n",
    "        line = line[1:]\n",
    "        ans = beta\n",
    "        argbeta = np.arange(len(beta))\n",
    "        while(len(line) > 0):\n",
    "            beta = np.vstack((beta, np.max((ans * P.T).T, axis=0) * p[:, int(line[0]) - 1]))\n",
    "            argbeta = np.vstack((argbeta, np.argmax((ans * P.T).T, axis=0)))\n",
    "            line = line[1:]\n",
    "            ans = beta[-1]\n",
    "            #print(argbeta, '\\n')\n",
    "        ans = []\n",
    "        ans.append(np.argmax(beta[-1]))\n",
    "        for i in range(len(beta))[::-1]:\n",
    "            ans.append(argbeta[i, ans[-1]])\n",
    "        return ans[::-1]\n",
    "    else:\n",
    "        return 1\n",
    "\n",
    "def decode (line, states):\n",
    "    ans = []\n",
    "    for i in range(len(line)):\n",
    "        ans.append(states[line[i]])\n",
    "    return ans"
   ]
  },
  {
   "cell_type": "code",
   "execution_count": 4,
   "metadata": {},
   "outputs": [
    {
     "name": "stdout",
     "output_type": "stream",
     "text": [
      "Последовательность:  1332333212113232213311121\n",
      "\n",
      "1) Правдоподобие последовательности:  4.978300204739012e-13\n",
      "\n",
      "2) Наиболее вероятная последовательность скрытых состояний:  ['H', 'H', 'H', 'H', 'H', 'H', 'H', 'H', 'H', 'C', 'C', 'C', 'C', 'H', 'H', 'H', 'H', 'H', 'C', 'H', 'H', 'C', 'C', 'C', 'C', 'C']\n"
     ]
    }
   ],
   "source": [
    "P = np.array(([[0.6, 0.4],\n",
    "               [0.5, 0.5]]))\n",
    "p = np.array(([[0.2, 0.4, 0.4],\n",
    "               [0.5, 0.4, 0.1]]))\n",
    "p0 = np.array(([0.8, 0.2]))\n",
    "\n",
    "line = '1332333212113232213311121'\n",
    "\n",
    "print('Последовательность: ', line)\n",
    "print('\\n1) Правдоподобие последовательности: ', likelihood2(line, p0, P, p))\n",
    "print('\\n2) Наиболее вероятная последовательность скрытых состояний: ', \n",
    "      decode(arg_likelihood (line, p0, P, p), {0 : 'H', 1 : 'C'}))"
   ]
  }
 ],
 "metadata": {
  "kernelspec": {
   "display_name": "Python 3",
   "language": "python",
   "name": "python3"
  },
  "language_info": {
   "codemirror_mode": {
    "name": "ipython",
    "version": 3
   },
   "file_extension": ".py",
   "mimetype": "text/x-python",
   "name": "python",
   "nbconvert_exporter": "python",
   "pygments_lexer": "ipython3",
   "version": "3.7.0"
  }
 },
 "nbformat": 4,
 "nbformat_minor": 2
}
