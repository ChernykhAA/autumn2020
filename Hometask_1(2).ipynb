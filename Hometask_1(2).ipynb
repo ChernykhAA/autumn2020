{
 "cells": [
  {
   "cell_type": "code",
   "execution_count": 1,
   "metadata": {},
   "outputs": [],
   "source": [
    "class Test:\n",
    "    @staticmethod\n",
    "    def assert_equals(a, b, *args, **kwargs):\n",
    "        assert a == b\n",
    "        print('Passed')"
   ]
  },
  {
   "cell_type": "markdown",
   "metadata": {},
   "source": [
    "Problem https://edabit.com/challenge/rZToTkR5eB9Zn4zLh (1 point)"
   ]
  },
  {
   "cell_type": "code",
   "execution_count": 2,
   "metadata": {},
   "outputs": [],
   "source": [
    "def addition(a, b):\n",
    "    return a + b"
   ]
  },
  {
   "cell_type": "code",
   "execution_count": 3,
   "metadata": {},
   "outputs": [
    {
     "name": "stdout",
     "output_type": "stream",
     "text": [
      "Passed\n",
      "Passed\n",
      "Passed\n"
     ]
    }
   ],
   "source": [
    "Test.assert_equals(addition(2,3), 5)\n",
    "Test.assert_equals(addition(-3,-6), -9)\n",
    "Test.assert_equals(addition(7,3), 10)"
   ]
  },
  {
   "cell_type": "markdown",
   "metadata": {},
   "source": [
    "Problem https://edabit.com/challenge/DbFcBJiRz3GDm6xns (1 point)"
   ]
  },
  {
   "cell_type": "code",
   "execution_count": 4,
   "metadata": {},
   "outputs": [],
   "source": [
    "def absolute(n):\n",
    "    if n < 0:\n",
    "        return -n\n",
    "    else:\n",
    "        return n"
   ]
  },
  {
   "cell_type": "code",
   "execution_count": 5,
   "metadata": {},
   "outputs": [
    {
     "name": "stdout",
     "output_type": "stream",
     "text": [
      "Passed\n",
      "Passed\n",
      "Passed\n",
      "Passed\n",
      "Passed\n",
      "Passed\n"
     ]
    }
   ],
   "source": [
    "def abs(n):\n",
    "    return \"No\"\n",
    "\n",
    "Test.assert_equals(absolute(-5), 5)\n",
    "Test.assert_equals(absolute(-3.14), 3.14)\n",
    "Test.assert_equals(absolute(250), 250)\n",
    "Test.assert_equals(absolute(0), 0)\n",
    "Test.assert_equals(absolute(6.28), 6.28)\n",
    "Test.assert_equals(absolute(11037), 11037)"
   ]
  },
  {
   "cell_type": "markdown",
   "metadata": {},
   "source": [
    "Problem https://edabit.com/challenge/gt9LLufDCMHKMioh2 (2 points)"
   ]
  },
  {
   "cell_type": "code",
   "execution_count": 6,
   "metadata": {},
   "outputs": [],
   "source": [
    "def stutter(word):\n",
    "    return word[:2] + '... ' + word[:2] + '... '+ word + '?'\n",
    "        "
   ]
  },
  {
   "cell_type": "code",
   "execution_count": 7,
   "metadata": {
    "scrolled": false
   },
   "outputs": [
    {
     "name": "stdout",
     "output_type": "stream",
     "text": [
      "Passed\n",
      "Passed\n",
      "Passed\n",
      "Passed\n",
      "Passed\n",
      "Passed\n",
      "Passed\n",
      "Passed\n",
      "Passed\n",
      "Passed\n"
     ]
    }
   ],
   "source": [
    "words, sts = [\n",
    "\t\"increasing\",\n",
    "\t\"adventures\",\n",
    "\t\"enticing\",\n",
    "\t\"unacceptable\",\n",
    "\t\"accountable\",\n",
    "\t\"incredible\",\n",
    "\t\"exquisite\",\n",
    "\t\"am\",\n",
    "\t\"enduring\",\n",
    "\t\"outstanding\"\n",
    "], [\n",
    "\t\"in... in... increasing?\",\n",
    "\t\"ad... ad... adventures?\",\n",
    "\t\"en... en... enticing?\",\n",
    "\t\"un... un... unacceptable?\",\n",
    "\t\"ac... ac... accountable?\",\n",
    "\t\"in... in... incredible?\",\n",
    "\t\"ex... ex... exquisite?\",\n",
    "\t\"am... am... am?\",\n",
    "\t\"en... en... enduring?\",\n",
    "\t\"ou... ou... outstanding?\"\n",
    "]\n",
    "for i, w in enumerate(words):\n",
    "\tTest.assert_equals(stutter(w), sts[i])"
   ]
  },
  {
   "cell_type": "markdown",
   "metadata": {},
   "source": [
    "Problem https://edabit.com/challenge/PNbsQzmDR3CJ9JHkB (3 points)"
   ]
  },
  {
   "cell_type": "code",
   "execution_count": 8,
   "metadata": {},
   "outputs": [],
   "source": [
    "def fact(n):\n",
    "    ans = 1\n",
    "    for i in range(1, n+1):\n",
    "        ans *= i\n",
    "    return ans"
   ]
  },
  {
   "cell_type": "code",
   "execution_count": 9,
   "metadata": {},
   "outputs": [
    {
     "name": "stdout",
     "output_type": "stream",
     "text": [
      "Passed\n",
      "Passed\n",
      "Passed\n",
      "Passed\n",
      "Passed\n",
      "Passed\n",
      "Passed\n"
     ]
    }
   ],
   "source": [
    "Test.assert_equals(fact(0), 1)\n",
    "Test.assert_equals(fact(1), 1)\n",
    "Test.assert_equals(fact(2), 2)\n",
    "Test.assert_equals(fact(3), 6)\n",
    "Test.assert_equals(fact(7), 5040)\n",
    "Test.assert_equals(fact(9), 362880)\n",
    "Test.assert_equals(fact(15), 1307674368000)"
   ]
  },
  {
   "cell_type": "markdown",
   "metadata": {},
   "source": [
    "Problem https://edabit.com/challenge/5bYXQfpyoithnQisa (4 points)"
   ]
  },
  {
   "cell_type": "code",
   "execution_count": 10,
   "metadata": {},
   "outputs": [],
   "source": [
    "char_to_dots = {\n",
    "  'A': '.-', 'B': '-...', 'C': '-.-.', 'D': '-..', 'E': '.', 'F': '..-.',\n",
    "  'G': '--.', 'H': '....', 'I': '..', 'J': '.---', 'K': '-.-', 'L': '.-..',\n",
    "  'M': '--', 'N': '-.', 'O': '---', 'P': '.--.', 'Q': '--.-', 'R': '.-.',\n",
    "  'S': '...', 'T': '-', 'U': '..-', 'V': '...-', 'W': '.--', 'X': '-..-',\n",
    "  'Y': '-.--', 'Z': '--..', ' ': ' ', '0': '-----',\n",
    "  '1': '.----', '2': '..---', '3': '...--', '4': '....-', '5': '.....',\n",
    "  '6': '-....', '7': '--...', '8': '---..', '9': '----.',\n",
    "  '&': '.-...', \"'\": '.----.', '@': '.--.-.', ')': '-.--.-', '(': '-.--.',\n",
    "  ':': '---...', ',': '--..--', '=': '-...-', '!': '-.-.--', '.': '.-.-.-',\n",
    "  '-': '-....-', '+': '.-.-.', '\"': '.-..-.', '?': '..--..', '/': '-..-.'\n",
    "}\n",
    "\n",
    "def encode_morse(message):\n",
    "    ans = \"\"\n",
    "    for i in message:\n",
    "        ans += char_to_dots[i.upper()] + ' '\n",
    "    return ans[:-1]"
   ]
  },
  {
   "cell_type": "code",
   "execution_count": 11,
   "metadata": {},
   "outputs": [
    {
     "name": "stdout",
     "output_type": "stream",
     "text": [
      "Passed\n",
      "Passed\n",
      "Passed\n",
      "Passed\n",
      "Passed\n",
      "Passed\n"
     ]
    }
   ],
   "source": [
    "Test.assert_equals(encode_morse(\"EDABBIT CHALLENGE\"), \". -.. .- -... -... .. -   -.-. .... .- .-.. .-.. . -. --. .\", \"Test 1\")\n",
    "Test.assert_equals(encode_morse(\"HELP ME !\"), \".... . .-.. .--.   -- .   -.-.--\", \"Test 2\")\n",
    "Test.assert_equals(encode_morse(\"CHALLENGE\"), \"-.-. .... .- .-.. .-.. . -. --. .\", \"Test 3\")\n",
    "Test.assert_equals(encode_morse(\"1 APPLE AND 5 CHERRY, 7 SANDWICHES, 2 TABLES, 9 INVITED GUYS ! THAT'S SO COOL...\"), \".----   .- .--. .--. .-.. .   .- -. -..   .....   -.-. .... . .-. .-. -.-- --..--   --...   ... .- -. -.. .-- .. -.-. .... . ... --..--   ..---   - .- -... .-.. . ... --..--   ----.   .. -. ...- .. - . -..   --. ..- -.-- ...   -.-.--   - .... .- - .----. ...   ... ---   -.-. --- --- .-.. .-.-.- .-.-.- .-.-.-\", \"Test 4\")\n",
    "Test.assert_equals(encode_morse(\"did you got my mail ?\"), \"-.. .. -..   -.-- --- ..-   --. --- -   -- -.--   -- .- .. .-..   ..--..\", \"Test 5\")\n",
    "Test.assert_equals(encode_morse(\"TWO THInGS TO KNOW : i FORGeT THeM :C\"), \"- .-- ---   - .... .. -. --. ...   - ---   -.- -. --- .--   ---...   ..   ..-. --- .-. --. . -   - .... . --   ---... -.-.\", \"Test 6\")"
   ]
  },
  {
   "cell_type": "markdown",
   "metadata": {},
   "source": [
    "Problem https://edabit.com/challenge/G9QRtAGXb9Cu368Pw (4 points)"
   ]
  },
  {
   "cell_type": "code",
   "execution_count": 12,
   "metadata": {},
   "outputs": [],
   "source": [
    "def combinations(*items):\n",
    "    ans = 1\n",
    "    for i in items:\n",
    "        if i:\n",
    "            ans *= i\n",
    "    return ans"
   ]
  },
  {
   "cell_type": "code",
   "execution_count": 13,
   "metadata": {},
   "outputs": [
    {
     "name": "stdout",
     "output_type": "stream",
     "text": [
      "Passed\n",
      "Passed\n",
      "Passed\n",
      "Passed\n",
      "Passed\n",
      "Passed\n",
      "Passed\n",
      "Passed\n",
      "Passed\n",
      "Passed\n"
     ]
    }
   ],
   "source": [
    "Test.assert_equals(combinations(2), 2)\n",
    "Test.assert_equals(combinations(2, 3), 6)\n",
    "Test.assert_equals(combinations(3, 5), 15)\n",
    "Test.assert_equals(combinations(5, 6, 7), 210)\n",
    "Test.assert_equals(combinations(5, 5, 5, 5), 625)\n",
    "Test.assert_equals(combinations(3, 6, 9), 162)\n",
    "Test.assert_equals(combinations(2, 3, 4, 5, 6, 7, 8, 9, 10), 3628800)\n",
    "Test.assert_equals(combinations(4, 5, 6), 120)\n",
    "Test.assert_equals(combinations(5, 6, 7, 8), 1680)\n",
    "Test.assert_equals(combinations(6, 7, 0), 42)"
   ]
  }
 ],
 "metadata": {
  "kernelspec": {
   "display_name": "Python 3",
   "language": "python",
   "name": "python3"
  },
  "language_info": {
   "codemirror_mode": {
    "name": "ipython",
    "version": 3
   },
   "file_extension": ".py",
   "mimetype": "text/x-python",
   "name": "python",
   "nbconvert_exporter": "python",
   "pygments_lexer": "ipython3",
   "version": "3.7.0"
  }
 },
 "nbformat": 4,
 "nbformat_minor": 2
}
