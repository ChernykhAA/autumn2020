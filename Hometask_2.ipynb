{
 "cells": [
  {
   "cell_type": "markdown",
   "metadata": {},
   "source": [
    "Homework #2"
   ]
  },
  {
   "cell_type": "markdown",
   "metadata": {},
   "source": [
    "Task 1\n",
    "\n",
    "Создайте двумерный массив 10x3, заполненный случайными значениями. В каждой строке выберите значение, наиболее близкое к 0.5."
   ]
  },
  {
   "cell_type": "code",
   "execution_count": 1,
   "metadata": {},
   "outputs": [
    {
     "name": "stdout",
     "output_type": "stream",
     "text": [
      "[[0.68210003 0.28853453 0.81069529]\n",
      " [0.42411613 0.84704232 0.19481922]\n",
      " [0.91074233 0.68928199 0.96148088]\n",
      " [0.40089135 0.62931911 0.09742166]\n",
      " [0.92563513 0.2614791  0.41636262]\n",
      " [0.15986451 0.66867556 0.30543262]\n",
      " [0.69901512 0.61006657 0.90999029]\n",
      " [0.13012953 0.87332119 0.01229892]\n",
      " [0.38905766 0.6927915  0.66836213]\n",
      " [0.57463216 0.5491358  0.90947633]]\n",
      "[0.68210003 0.42411613 0.68928199 0.40089135 0.41636262 0.66867556\n",
      " 0.61006657 0.13012953 0.38905766 0.5491358 ]\n"
     ]
    }
   ],
   "source": [
    "import numpy as np\n",
    "\n",
    "a = np.random.random((10, 3))\n",
    "print(a)\n",
    "print(a[np.arange(10), np.argmin(abs(a - 0.5) ,axis = 1)])\n",
    "#np.random.random((10, 3))[np.arange(10), np.argmin(abs(a - 0.5), axis = 1)]"
   ]
  },
  {
   "cell_type": "markdown",
   "metadata": {},
   "source": [
    "Task 2\n",
    "\n",
    "Создайте двумерный массив 6x6, заполненный случайными значениями. Затем сумму по каждой строке поделите на минимальный элемент из столбца с тем же индексом."
   ]
  },
  {
   "cell_type": "code",
   "execution_count": 2,
   "metadata": {},
   "outputs": [
    {
     "name": "stdout",
     "output_type": "stream",
     "text": [
      "[3.78056031 7.87045986]\n"
     ]
    }
   ],
   "source": [
    "import numpy as np\n",
    "\n",
    "a = np.random.random((2, 2))\n",
    "print(np.sum(a, axis = 1) / np.min(a, axis = 0))"
   ]
  },
  {
   "cell_type": "markdown",
   "metadata": {},
   "source": [
    "Task 3\n",
    "\n",
    "На примере массива x = np.array([6, 2, 0, 3, 0, 0, 5, 7, 0]) найдите максимальный элемент в массиве среди элементов, перед которыми стоит ноль."
   ]
  },
  {
   "cell_type": "code",
   "execution_count": 3,
   "metadata": {},
   "outputs": [
    {
     "name": "stdout",
     "output_type": "stream",
     "text": [
      "5\n"
     ]
    }
   ],
   "source": [
    "import numpy as np\n",
    "\n",
    "x = np.array([6, 2, 0, 3, 0, 0, 5, 7, 0])\n",
    "print(np.max(x[1:][(x == 0)[:-1]]))"
   ]
  },
  {
   "cell_type": "markdown",
   "metadata": {},
   "source": [
    "Task 4\n",
    "\n",
    "Пусть заданы два массива x = np.ones(10) и i = np.array([0, 1, 2, 3, 5, 5, 5, 8]). Прибавьте единицу к тем элементам массива x, индексы которых указаны в массиве i. В случае, если некоторый индекс встретился в массиве i несколько раз, прибавьте к соответствующему элементу массива x число вхождений данного индекса в массив i."
   ]
  },
  {
   "cell_type": "code",
   "execution_count": 4,
   "metadata": {},
   "outputs": [
    {
     "name": "stdout",
     "output_type": "stream",
     "text": [
      "[2. 2. 2. 2. 1. 4. 1. 1. 2. 1.]\n"
     ]
    }
   ],
   "source": [
    "import numpy as np\n",
    "\n",
    "x = np.ones(10)\n",
    "i = np.array([0, 1, 2, 3, 5, 5, 5, 8])\n",
    "print(x + np.bincount(i, minlength = len(x)))"
   ]
  },
  {
   "cell_type": "markdown",
   "metadata": {},
   "source": [
    "Task 5\n",
    "\n",
    "Написать функцию, реализующую алгоритм k-means. \n",
    "Входные и выходные значения функции должны быть аналогичны \n",
    "https://docs.scipy.org/doc/scipy-0.15.1/reference/generated/scipy.cluster.vq.kmeans.html. \n",
    "Функция должна содержать только один цикл while (for)."
   ]
  },
  {
   "cell_type": "code",
   "execution_count": 5,
   "metadata": {},
   "outputs": [],
   "source": [
    "def my_whiten(features):\n",
    "    #return (features - features.mean(axis = 0)) / features.std(axis = 0)\n",
    "    return features / features.std(axis = 0)"
   ]
  },
  {
   "cell_type": "code",
   "execution_count": 28,
   "metadata": {},
   "outputs": [],
   "source": [
    "import numpy as np\n",
    "from scipy.spatial import distance\n",
    "\n",
    "def my_kmeans(obs, k_or_guess, thresh=1e-05): #k_or_guess -- int or ndarray\n",
    "    \n",
    "    if type(k_or_guess) == int and int(k_or_guess) > 1:\n",
    "        book = obs[np.random.choice(obs.shape[0], size = k_or_guess, replace = False)]\n",
    "    else:\n",
    "        book = k_or_guess\n",
    "    \n",
    "    prev_diff = np.inf\n",
    "    cur_diff = np.mean(np.min(distance.cdist(obs, book, 'euclidean'), axis=1))\n",
    "    while abs(prev_diff - cur_diff) > thresh:\n",
    "        new_book = np.empty(book.shape)\n",
    "        dist = distance.cdist(obs, book, 'euclidean')\n",
    "        tmp = np.hstack((obs, np.argmin(dist, axis = 1).reshape(len(dist),1)))\n",
    "        for i in range(len(book)):\n",
    "            new_book[i] = np.vstack(row for row in tmp if row[-1] == i).mean(axis=0)[:-1]\n",
    "        book = new_book   \n",
    "        prev_diff = cur_diff\n",
    "        cur_diff = np.mean(np.min(distance.cdist(obs, book, 'euclidean'), axis=1))\n",
    "        \n",
    "    return book, cur_diff\n",
    "        \n",
    "        "
   ]
  },
  {
   "cell_type": "markdown",
   "metadata": {},
   "source": [
    "Examples of working for k-means"
   ]
  },
  {
   "cell_type": "code",
   "execution_count": 7,
   "metadata": {},
   "outputs": [
    {
     "data": {
      "text/plain": [
       "(array([[3.73950143, 2.81542279, 8.27314934],\n",
       "        [1.75976538, 0.7038557 , 7.21248917]]), 0.7695048494502253)"
      ]
     },
     "execution_count": 7,
     "metadata": {},
     "output_type": "execute_result"
    }
   ],
   "source": [
    "features = np.array([[1.9, 2.3, 1.7],\n",
    "                     [1.5, 2.5, 2.2],\n",
    "                     [0.8, 0.6, 1.7,]])\n",
    "whitened = my_whiten(features)\n",
    "book = np.array((whitened[0],whitened[2]))\n",
    "my_kmeans(whitened, book)"
   ]
  },
  {
   "cell_type": "code",
   "execution_count": 46,
   "metadata": {},
   "outputs": [
    {
     "data": {
      "text/plain": [
       "(array([[2.45121811, 3.03653641],\n",
       "        [0.98872663, 1.31944737]]), 0.9088234961964715)"
      ]
     },
     "execution_count": 46,
     "metadata": {},
     "output_type": "execute_result"
    }
   ],
   "source": [
    "features  = np.array([[ 1.9,2.3],\n",
    "                      [ 1.5,2.5],\n",
    "                      [ 0.8,0.6],\n",
    "                      [ 0.4,1.8],\n",
    "                      [ 0.1,0.1],\n",
    "                      [ 0.2,1.8],\n",
    "                      [ 2.0,0.5],\n",
    "                      [ 0.3,1.5],\n",
    "                      [ 1.0,1.0]])\n",
    "whitened = my_whiten(features)\n",
    "book = np.array((whitened[0],whitened[2]))\n",
    "my_kmeans(whitened,book)"
   ]
  },
  {
   "cell_type": "code",
   "execution_count": 29,
   "metadata": {},
   "outputs": [
    {
     "data": {
      "image/png": "[encoded data removed]",
      "text/plain": [
       "<Figure size 432x288 with 1 Axes>"
      ]
     },
     "metadata": {
      "needs_background": "light"
     },
     "output_type": "display_data"
    }
   ],
   "source": [
    "import matplotlib.pyplot as plt\n",
    "\n",
    "pts = 50\n",
    "a = np.random.multivariate_normal([0, 0], [[4, 1], [1, 4]], size=pts)\n",
    "b = np.random.multivariate_normal([30, 10], [[10, 2], [2, 1]], size=pts)\n",
    "features = np.concatenate((a, b))\n",
    "whitened = my_whiten(features)\n",
    "codebook, distortion = my_kmeans(whitened, 2)\n",
    "plt.scatter(whitened[:, 0], whitened[:, 1])\n",
    "plt.scatter(codebook[:, 0], codebook[:, 1], c='r')\n",
    "plt.show()"
   ]
  },
  {
   "cell_type": "markdown",
   "metadata": {},
   "source": [
    "Data standartization "
   ]
  },
  {
   "cell_type": "code",
   "execution_count": 37,
   "metadata": {},
   "outputs": [],
   "source": [
    "def standartization(features):\n",
    "    return (features - features.mean(axis = 0)) / features.std(axis = 0)"
   ]
  },
  {
   "cell_type": "code",
   "execution_count": 45,
   "metadata": {},
   "outputs": [
    {
     "name": "stdout",
     "output_type": "stream",
     "text": [
      "[['0001' 'Male' '19' '15' '39']\n",
      " ['0002' 'Male' '21' '15' '81']\n",
      " ['0003' 'Female' '20' '16' '6']\n",
      " ['0004' 'Female' '23' '16' '77']\n",
      " ['0005' 'Female' '31' '17' '40']]\n",
      "[[ 1.  1. 19. 15. 39.]\n",
      " [ 2.  1. 21. 15. 81.]\n",
      " [ 3.  0. 20. 16.  6.]\n",
      " [ 4.  0. 23. 16. 77.]\n",
      " [ 5.  0. 31. 17. 40.]]\n",
      "[[ 1.          1.         -1.42456879 -1.73899919 -0.43480148]\n",
      " [ 2.          1.         -1.28103541 -1.73899919  1.19570407]\n",
      " [ 3.          0.         -1.3528021  -1.70082976 -1.71591298]\n",
      " [ 4.          0.         -1.13750203 -1.70082976  1.04041783]\n",
      " [ 5.          0.         -0.56336851 -1.66266033 -0.39597992]]\n"
     ]
    }
   ],
   "source": [
    "url = 'https://raw.githubusercontent.com/sharmaroshan/Clustering-of-Mall-Customers/master/Mall_Customers.csv'\n",
    "data = np.loadtxt(url, delimiter=',', dtype=object, skiprows=1)\n",
    "print(data[:5])\n",
    "data[:, 1] = data[:, 1] == 'Male'\n",
    "data = data.astype(float)\n",
    "print(data[:5])\n",
    "std_data = standartization(data[:,2:])\n",
    "print(np.hstack((data[:, :2], std_data))[:5])"
   ]
  }
 ],
 "metadata": {
  "kernelspec": {
   "display_name": "Python 3",
   "language": "python",
   "name": "python3"
  },
  "language_info": {
   "codemirror_mode": {
    "name": "ipython",
    "version": 3
   },
   "file_extension": ".py",
   "mimetype": "text/x-python",
   "name": "python",
   "nbconvert_exporter": "python",
   "pygments_lexer": "ipython3",
   "version": "3.7.0"
  }
 },
 "nbformat": 4,
 "nbformat_minor": 2
}
